{
 "cells": [
  {
   "cell_type": "markdown",
   "metadata": {},
   "source": [
    "# Linear Transformation\n",
    "\n",
    "$$\n",
    "T(V + W) = T(V) + T(W) \\quad \\text{for all } V, W \\in \\mathbb{R}^n\n",
    "$$\n",
    "\n",
    "$$\n",
    "T(cV) = cT(V) \\quad \\text{for all } V \\in \\mathbb{R}^n \\text{ and all } c \\in \\mathbb{R}^n\n",
    "$$"
   ]
  },
  {
   "cell_type": "code",
   "execution_count": 15,
   "metadata": {},
   "outputs": [
    {
     "name": "stdout",
     "output_type": "stream",
     "text": [
      "\n",
      "T(U + V):\n",
      "Matrix([[v1 + v2 + w1 + w2], [v1 - v2 + w1 - w2]])\n",
      "\n",
      "T(U) + T(V):\n",
      "Matrix([[v1 + v2 + w1 + w2], [v1 - v2 + w1 - w2]])\n",
      "\n",
      "T(c * V):\n",
      "Matrix([[c*v1 + c*v2], [c*v1 - c*v2]])\n",
      "\n",
      "c * T(V):\n",
      "Matrix([[c*(v1 + v2)], [c*(v1 - v2)]])\n",
      "\n",
      "Additivity Check: True\n",
      "Homogeneity Check: True\n",
      "\n",
      "Is T a linear transformation? True\n"
     ]
    }
   ],
   "source": [
    "from modules.linearTrans.linearTrans import linearTrans\n",
    "from sympy import symbols, Matrix, simplify\n",
    "\n",
    "dim = int(input(\"Enter the dimension of the vector: \"))\n",
    "\n",
    "vars = [f'v{i}' for i in range(1, dim + 1)]\n",
    "\n",
    "func_input = input(f\"Enter the transformation function in terms of {', '.join(vars)}: \")\n",
    "func = Matrix([simplify(expr.strip()) for expr in func_input.split(',')])\n",
    "\n",
    "linearTrans(dim, vars, func)"
   ]
  },
  {
   "cell_type": "markdown",
   "metadata": {},
   "source": [
    "# Linear Transform As Matrices\n",
    "\n",
    "$$\n",
    "T(V) = [T]v \\quad \\text{for all } v \\in \\mathbb{R}^n\n",
    "$$\n",
    "\n",
    "$$\n",
    "\\left[T\\right]=\\left[T\\left(e_1\\right)|T\\left(e_2\\right)|\\cdots|T\\left(e_n\\right)\\right]\n",
    "$$"
   ]
  },
  {
   "cell_type": "code",
   "execution_count": 1,
   "metadata": {},
   "outputs": [
    {
     "name": "stdout",
     "output_type": "stream",
     "text": [
      "e1\n",
      "T(e1): v1+v2 = 1.00000000000000\n",
      "T(e1): v1-v2 = 1.00000000000000\n",
      "T(e1): v1 = 1.00000000000000\n",
      "e2\n",
      "T(e2): v1+v2 = 1.00000000000000\n",
      "T(e2): v1-v2 = -1.00000000000000\n",
      "T(e2): v1 = 0\n",
      "[[1.00000000000000 1.00000000000000]\n",
      " [1.00000000000000 1.00000000000000]\n",
      " [-1.00000000000000 0]]\n"
     ]
    }
   ],
   "source": [
    "from modules.linearTransAsMatrices.linearTransAsMatrices import linearTransAsMatrices\n",
    "\n",
    "T = int(input('T: '))\n",
    "function = input(\"function: \").split(\",\")\n",
    "result_matrix = linearTransAsMatrices(\"T\", T, function)\n",
    "print(result_matrix)"
   ]
  },
  {
   "cell_type": "markdown",
   "metadata": {},
   "source": [
    "# Projection\n",
    "$$\n",
    "[P_U\\ ]=(uu^T)/‖v‖^2 \n",
    "$$"
   ]
  },
  {
   "cell_type": "code",
   "execution_count": 17,
   "metadata": {},
   "outputs": [
    {
     "name": "stdout",
     "output_type": "stream",
     "text": [
      "[[0.33333333 0.33333333 0.33333333]\n",
      " [0.33333333 0.33333333 0.33333333]\n",
      " [0.33333333 0.33333333 0.33333333]]\n"
     ]
    }
   ],
   "source": [
    "from modules.projection.projection import projection\n",
    "\n",
    "input_vector = input(\"Vector (e.g., 3 4): \").split(\" \")\n",
    "input_vector = [[int(x) for x in input_vector]]\n",
    "\n",
    "projected_vector = projection(input_vector)\n",
    "\n",
    "print(projected_vector)"
   ]
  },
  {
   "cell_type": "markdown",
   "metadata": {},
   "source": [
    "# Reflection\n",
    "\n",
    "$$\n",
    "[P_U\\ ]=(2uu^T)/‖v‖^2 -|i|\n",
    "$$"
   ]
  },
  {
   "cell_type": "code",
   "execution_count": 18,
   "metadata": {},
   "outputs": [
    {
     "name": "stdout",
     "output_type": "stream",
     "text": [
      "[[-0.33333333  0.66666667  0.66666667]\n",
      " [ 0.66666667 -0.33333333  0.66666667]\n",
      " [ 0.66666667  0.66666667 -0.33333333]]\n"
     ]
    }
   ],
   "source": [
    "from modules.reflection.reflection import reflection\n",
    "\n",
    "input_vector = input(\"Vector (e.g., 3 4): \").split(\" \")\n",
    "input_vector = [[int(x) for x in input_vector]]\n",
    "\n",
    "projected_vector = reflection(input_vector)\n",
    "\n",
    "print(projected_vector)"
   ]
  },
  {
   "cell_type": "markdown",
   "metadata": {},
   "source": [
    "# Rotation\n",
    "\n",
    "$$\n",
    "f\\left(\\begin{array}{c}x\\\\y\\end{array}\\right)=\\left(\\begin{array}{c}\\cos\\theta\\\\ \\sin\\theta\\end{array}\\begin{array}{c}-sin\\theta\\\\ \\cos\\theta\\end{array}\\right)\\left(\\begin{array}{c}x\\\\ y\\end{array}\\right)\n",
    "$$"
   ]
  },
  {
   "cell_type": "code",
   "execution_count": 19,
   "metadata": {},
   "outputs": [
    {
     "name": "stdout",
     "output_type": "stream",
     "text": [
      "Original vector: [0, 5]\n",
      "Transform Angle: 90\n",
      "Rotated Vector: [-5.0, 3.061616997868383e-16]\n"
     ]
    },
    {
     "data": {
      "image/png": "[encoded data removed]",
      "text/plain": [
       "<Figure size 640x480 with 1 Axes>"
      ]
     },
     "metadata": {},
     "output_type": "display_data"
    }
   ],
   "source": [
    "import math\n",
    "from modules.rotation.rotation import rotate_vector\n",
    "from modules.rotation.rotationGraph import show_rotation_graph\n",
    "\n",
    "input_vector = input(\"Vector (e.g., 3 4): \").split(\" \")\n",
    "input_vector = [int(x) for x in input_vector]\n",
    "\n",
    "angle_in_degrees = int(input(\"Angle in degrees: \"))\n",
    "angle_in_radians = math.radians(angle_in_degrees)\n",
    "\n",
    "rotated_vector = rotate_vector(input_vector, angle_in_radians)\n",
    "\n",
    "print(f\"Original vector: {input_vector}\")\n",
    "print(f\"Transform Angle: {angle_in_degrees}\")\n",
    "print(f\"Rotated Vector: {rotated_vector}\")\n",
    "\n",
    "show_rotation_graph(input_vector, rotated_vector)"
   ]
  },
  {
   "cell_type": "markdown",
   "metadata": {},
   "source": [
    "# Composition of Linear Transformation\n",
    "\n",
    "$$\n",
    "(S \\cdot T)(v) = S(T(v)) \\quad \\text{for all } v \\in \\mathbb{R}^n\n",
    "$$"
   ]
  },
  {
   "cell_type": "code",
   "execution_count": 3,
   "metadata": {},
   "outputs": [
    {
     "name": "stdout",
     "output_type": "stream",
     "text": [
      "e1\n",
      "S(e1): v1-v2 = 1.00000000000000\n",
      "S(e1): v1+v2 = 1.00000000000000\n",
      "S(e1): v1+v3 = 1.00000000000000\n",
      "e2\n",
      "S(e2): v1-v2 = -1.00000000000000\n",
      "S(e2): v1+v2 = 1.00000000000000\n",
      "S(e2): v1+v3 = 0\n",
      "e3\n",
      "S(e3): v1-v2 = 0\n",
      "S(e3): v1+v2 = 0\n",
      "S(e3): v1+v3 = 1.00000000000000\n",
      "[[1.00000000000000 1.00000000000000 1.00000000000000]\n",
      " [-1.00000000000000 1.00000000000000 0]\n",
      " [0 0 1.00000000000000]]\n",
      "e1\n",
      "T(e1): -v1 = -1.00000000000000\n",
      "T(e1): v1+v2 = 1.00000000000000\n",
      "T(e1): v2-v1 = -1.00000000000000\n",
      "e2\n",
      "T(e2): -v1 = 0\n",
      "T(e2): v1+v2 = 1.00000000000000\n",
      "T(e2): v2-v1 = 1.00000000000000\n",
      "[[-1.00000000000000 1.00000000000000]\n",
      " [-1.00000000000000 0]\n",
      " [1.00000000000000 1.00000000000000]]\n",
      "(S◦T)\n",
      "[[-1.00000000000000 2.00000000000000]\n",
      " [0 -1.00000000000000]\n",
      " [1.00000000000000 1.00000000000000]]\n"
     ]
    }
   ],
   "source": [
    "from modules.composition.composition import evaluateComposition\n",
    "\n",
    "S = int(input('S: '))\n",
    "SFunction = input(\"S Function: \").split(\",\")\n",
    "\n",
    "T = int(input('T: '))\n",
    "TFunction = input(\"T Function: \").split(\",\")\n",
    "\n",
    "print(evaluateComposition(S, SFunction, T, TFunction))"
   ]
  }
 ],
 "metadata": {
  "kernelspec": {
   "display_name": "Python 3",
   "language": "python",
   "name": "python3"
  },
  "language_info": {
   "codemirror_mode": {
    "name": "ipython",
    "version": 3
   },
   "file_extension": ".py",
   "mimetype": "text/x-python",
   "name": "python",
   "nbconvert_exporter": "python",
   "pygments_lexer": "ipython3",
   "version": "3.11.5"
  }
 },
 "nbformat": 4,
 "nbformat_minor": 2
}
